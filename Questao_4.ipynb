{
 "cells": [
  {
   "cell_type": "markdown",
   "id": "572a9600",
   "metadata": {},
   "source": [
    "<h1> Questão 4"
   ]
  },
  {
   "cell_type": "code",
   "execution_count": 3,
   "id": "b6ff2936",
   "metadata": {},
   "outputs": [],
   "source": [
    "import pandas as pd\n",
    "import matplotlib.pyplot as plt\n",
    "import numpy as np\n",
    "from sklearn import cluster, neighbors, svm, metrics, preprocessing\n",
    "from sklearn.preprocessing import LabelEncoder, OneHotEncoder, RobustScaler\n",
    "from sklearn.decomposition import PCA\n",
    "import warnings\n",
    "warnings.simplefilter(action='ignore', category=FutureWarning)"
   ]
  },
  {
   "cell_type": "code",
   "execution_count": 4,
   "id": "9958cd31",
   "metadata": {},
   "outputs": [],
   "source": [
    "df = pd.read_csv('BankChurners.csv', delimiter=\",\")"
   ]
  },
  {
   "cell_type": "code",
   "execution_count": 5,
   "id": "ca6ea1dc",
   "metadata": {},
   "outputs": [],
   "source": [
    "for column in df.columns:\n",
    "    df = df[df[column] != \"Unknown\"]"
   ]
  },
  {
   "cell_type": "code",
   "execution_count": 6,
   "id": "d8440e81",
   "metadata": {},
   "outputs": [],
   "source": [
    "df = df.drop(columns=['CLIENTNUM','Naive_Bayes_Classifier_Attrition_Flag_Card_Category_Contacts_Count_12_mon_Dependent_count_Education_Level_Months_Inactive_12_mon_1','Naive_Bayes_Classifier_Attrition_Flag_Card_Category_Contacts_Count_12_mon_Dependent_count_Education_Level_Months_Inactive_12_mon_2'])"
   ]
  },
  {
   "cell_type": "code",
   "execution_count": 7,
   "id": "4380e8fe",
   "metadata": {},
   "outputs": [],
   "source": [
    "le = preprocessing.LabelEncoder() #transforma atributos qualitativos em quantitativos\n",
    "for column in df.columns:\n",
    "    if df[column].dtypes == 'object':\n",
    "        df[column] = le.fit_transform(df[column])"
   ]
  },
  {
   "cell_type": "code",
   "execution_count": 8,
   "id": "5ce76651",
   "metadata": {},
   "outputs": [],
   "source": [
    "scaler = preprocessing.MinMaxScaler()\n",
    "names = df.columns\n",
    "d = scaler.fit_transform(df)\n",
    "df = pd.DataFrame(d, columns=names) #df normalizado (todos os dados no intervalo [0,1])"
   ]
  },
  {
   "cell_type": "code",
   "execution_count": 9,
   "id": "be692597",
   "metadata": {},
   "outputs": [
    {
     "data": {
      "text/html": [
       "<div>\n",
       "<style scoped>\n",
       "    .dataframe tbody tr th:only-of-type {\n",
       "        vertical-align: middle;\n",
       "    }\n",
       "\n",
       "    .dataframe tbody tr th {\n",
       "        vertical-align: top;\n",
       "    }\n",
       "\n",
       "    .dataframe thead th {\n",
       "        text-align: right;\n",
       "    }\n",
       "</style>\n",
       "<table border=\"1\" class=\"dataframe\">\n",
       "  <thead>\n",
       "    <tr style=\"text-align: right;\">\n",
       "      <th></th>\n",
       "      <th>Attrition_Flag</th>\n",
       "      <th>Customer_Age</th>\n",
       "      <th>Gender</th>\n",
       "      <th>Dependent_count</th>\n",
       "      <th>Education_Level</th>\n",
       "      <th>Marital_Status</th>\n",
       "      <th>Income_Category</th>\n",
       "      <th>Card_Category</th>\n",
       "      <th>Months_on_book</th>\n",
       "      <th>Total_Relationship_Count</th>\n",
       "      <th>Months_Inactive_12_mon</th>\n",
       "      <th>Contacts_Count_12_mon</th>\n",
       "      <th>Credit_Limit</th>\n",
       "      <th>Total_Revolving_Bal</th>\n",
       "      <th>Avg_Open_To_Buy</th>\n",
       "      <th>Total_Amt_Chng_Q4_Q1</th>\n",
       "      <th>Total_Trans_Amt</th>\n",
       "      <th>Total_Trans_Ct</th>\n",
       "      <th>Total_Ct_Chng_Q4_Q1</th>\n",
       "      <th>Avg_Utilization_Ratio</th>\n",
       "    </tr>\n",
       "  </thead>\n",
       "  <tbody>\n",
       "    <tr>\n",
       "      <th>0</th>\n",
       "      <td>1.0</td>\n",
       "      <td>0.404255</td>\n",
       "      <td>1.0</td>\n",
       "      <td>0.6</td>\n",
       "      <td>0.6</td>\n",
       "      <td>0.5</td>\n",
       "      <td>0.50</td>\n",
       "      <td>0.0</td>\n",
       "      <td>0.604651</td>\n",
       "      <td>0.8</td>\n",
       "      <td>0.166667</td>\n",
       "      <td>0.500000</td>\n",
       "      <td>0.340190</td>\n",
       "      <td>0.308701</td>\n",
       "      <td>0.345116</td>\n",
       "      <td>0.392994</td>\n",
       "      <td>0.036260</td>\n",
       "      <td>0.258065</td>\n",
       "      <td>0.437534</td>\n",
       "      <td>0.061061</td>\n",
       "    </tr>\n",
       "    <tr>\n",
       "      <th>1</th>\n",
       "      <td>1.0</td>\n",
       "      <td>0.489362</td>\n",
       "      <td>0.0</td>\n",
       "      <td>1.0</td>\n",
       "      <td>0.4</td>\n",
       "      <td>1.0</td>\n",
       "      <td>1.00</td>\n",
       "      <td>0.0</td>\n",
       "      <td>0.720930</td>\n",
       "      <td>1.0</td>\n",
       "      <td>0.166667</td>\n",
       "      <td>0.333333</td>\n",
       "      <td>0.206112</td>\n",
       "      <td>0.343266</td>\n",
       "      <td>0.214093</td>\n",
       "      <td>0.453636</td>\n",
       "      <td>0.044667</td>\n",
       "      <td>0.185484</td>\n",
       "      <td>1.000000</td>\n",
       "      <td>0.105105</td>\n",
       "    </tr>\n",
       "    <tr>\n",
       "      <th>2</th>\n",
       "      <td>1.0</td>\n",
       "      <td>0.531915</td>\n",
       "      <td>1.0</td>\n",
       "      <td>0.6</td>\n",
       "      <td>0.4</td>\n",
       "      <td>0.5</td>\n",
       "      <td>0.75</td>\n",
       "      <td>0.0</td>\n",
       "      <td>0.534884</td>\n",
       "      <td>0.6</td>\n",
       "      <td>0.166667</td>\n",
       "      <td>0.000000</td>\n",
       "      <td>0.059850</td>\n",
       "      <td>0.000000</td>\n",
       "      <td>0.098948</td>\n",
       "      <td>0.763615</td>\n",
       "      <td>0.078753</td>\n",
       "      <td>0.080645</td>\n",
       "      <td>0.628164</td>\n",
       "      <td>0.000000</td>\n",
       "    </tr>\n",
       "    <tr>\n",
       "      <th>3</th>\n",
       "      <td>1.0</td>\n",
       "      <td>0.297872</td>\n",
       "      <td>1.0</td>\n",
       "      <td>0.6</td>\n",
       "      <td>1.0</td>\n",
       "      <td>0.5</td>\n",
       "      <td>0.50</td>\n",
       "      <td>0.0</td>\n",
       "      <td>0.186047</td>\n",
       "      <td>0.8</td>\n",
       "      <td>0.166667</td>\n",
       "      <td>0.000000</td>\n",
       "      <td>0.099091</td>\n",
       "      <td>0.000000</td>\n",
       "      <td>0.136557</td>\n",
       "      <td>0.640271</td>\n",
       "      <td>0.017501</td>\n",
       "      <td>0.145161</td>\n",
       "      <td>0.673129</td>\n",
       "      <td>0.000000</td>\n",
       "    </tr>\n",
       "    <tr>\n",
       "      <th>4</th>\n",
       "      <td>1.0</td>\n",
       "      <td>0.382979</td>\n",
       "      <td>1.0</td>\n",
       "      <td>0.4</td>\n",
       "      <td>0.4</td>\n",
       "      <td>0.5</td>\n",
       "      <td>0.25</td>\n",
       "      <td>0.0</td>\n",
       "      <td>0.534884</td>\n",
       "      <td>0.4</td>\n",
       "      <td>0.166667</td>\n",
       "      <td>0.333333</td>\n",
       "      <td>0.077747</td>\n",
       "      <td>0.495431</td>\n",
       "      <td>0.079970</td>\n",
       "      <td>0.405063</td>\n",
       "      <td>0.033057</td>\n",
       "      <td>0.112903</td>\n",
       "      <td>0.227787</td>\n",
       "      <td>0.311311</td>\n",
       "    </tr>\n",
       "    <tr>\n",
       "      <th>...</th>\n",
       "      <td>...</td>\n",
       "      <td>...</td>\n",
       "      <td>...</td>\n",
       "      <td>...</td>\n",
       "      <td>...</td>\n",
       "      <td>...</td>\n",
       "      <td>...</td>\n",
       "      <td>...</td>\n",
       "      <td>...</td>\n",
       "      <td>...</td>\n",
       "      <td>...</td>\n",
       "      <td>...</td>\n",
       "      <td>...</td>\n",
       "      <td>...</td>\n",
       "      <td>...</td>\n",
       "      <td>...</td>\n",
       "      <td>...</td>\n",
       "      <td>...</td>\n",
       "      <td>...</td>\n",
       "      <td>...</td>\n",
       "    </tr>\n",
       "    <tr>\n",
       "      <th>7076</th>\n",
       "      <td>1.0</td>\n",
       "      <td>0.595745</td>\n",
       "      <td>1.0</td>\n",
       "      <td>0.2</td>\n",
       "      <td>0.6</td>\n",
       "      <td>1.0</td>\n",
       "      <td>0.50</td>\n",
       "      <td>0.0</td>\n",
       "      <td>0.488372</td>\n",
       "      <td>0.8</td>\n",
       "      <td>0.333333</td>\n",
       "      <td>0.000000</td>\n",
       "      <td>0.377949</td>\n",
       "      <td>0.837902</td>\n",
       "      <td>0.342711</td>\n",
       "      <td>0.194289</td>\n",
       "      <td>0.861710</td>\n",
       "      <td>0.838710</td>\n",
       "      <td>0.203016</td>\n",
       "      <td>0.151151</td>\n",
       "    </tr>\n",
       "    <tr>\n",
       "      <th>7077</th>\n",
       "      <td>1.0</td>\n",
       "      <td>0.638298</td>\n",
       "      <td>0.0</td>\n",
       "      <td>0.2</td>\n",
       "      <td>0.4</td>\n",
       "      <td>1.0</td>\n",
       "      <td>1.00</td>\n",
       "      <td>0.0</td>\n",
       "      <td>0.860465</td>\n",
       "      <td>0.6</td>\n",
       "      <td>0.166667</td>\n",
       "      <td>0.666667</td>\n",
       "      <td>0.068013</td>\n",
       "      <td>0.240763</td>\n",
       "      <td>0.089213</td>\n",
       "      <td>0.167795</td>\n",
       "      <td>0.805605</td>\n",
       "      <td>0.887097</td>\n",
       "      <td>0.212978</td>\n",
       "      <td>0.164164</td>\n",
       "    </tr>\n",
       "    <tr>\n",
       "      <th>7078</th>\n",
       "      <td>1.0</td>\n",
       "      <td>0.510638</td>\n",
       "      <td>1.0</td>\n",
       "      <td>0.4</td>\n",
       "      <td>0.4</td>\n",
       "      <td>1.0</td>\n",
       "      <td>0.25</td>\n",
       "      <td>0.0</td>\n",
       "      <td>0.627907</td>\n",
       "      <td>0.4</td>\n",
       "      <td>0.333333</td>\n",
       "      <td>0.500000</td>\n",
       "      <td>0.077536</td>\n",
       "      <td>0.735399</td>\n",
       "      <td>0.062266</td>\n",
       "      <td>0.206947</td>\n",
       "      <td>0.855934</td>\n",
       "      <td>0.862903</td>\n",
       "      <td>0.230749</td>\n",
       "      <td>0.462462</td>\n",
       "    </tr>\n",
       "    <tr>\n",
       "      <th>7079</th>\n",
       "      <td>0.0</td>\n",
       "      <td>0.382979</td>\n",
       "      <td>0.0</td>\n",
       "      <td>0.2</td>\n",
       "      <td>0.6</td>\n",
       "      <td>0.5</td>\n",
       "      <td>1.00</td>\n",
       "      <td>0.0</td>\n",
       "      <td>0.534884</td>\n",
       "      <td>0.8</td>\n",
       "      <td>0.500000</td>\n",
       "      <td>0.666667</td>\n",
       "      <td>0.120042</td>\n",
       "      <td>0.000000</td>\n",
       "      <td>0.156637</td>\n",
       "      <td>0.241095</td>\n",
       "      <td>0.559394</td>\n",
       "      <td>0.403226</td>\n",
       "      <td>0.220248</td>\n",
       "      <td>0.000000</td>\n",
       "    </tr>\n",
       "    <tr>\n",
       "      <th>7080</th>\n",
       "      <td>0.0</td>\n",
       "      <td>0.361702</td>\n",
       "      <td>0.0</td>\n",
       "      <td>0.4</td>\n",
       "      <td>0.4</td>\n",
       "      <td>0.5</td>\n",
       "      <td>1.00</td>\n",
       "      <td>1.0</td>\n",
       "      <td>0.279070</td>\n",
       "      <td>1.0</td>\n",
       "      <td>0.333333</td>\n",
       "      <td>0.666667</td>\n",
       "      <td>0.270566</td>\n",
       "      <td>0.779102</td>\n",
       "      <td>0.244082</td>\n",
       "      <td>0.206947</td>\n",
       "      <td>0.559565</td>\n",
       "      <td>0.411290</td>\n",
       "      <td>0.174744</td>\n",
       "      <td>0.189189</td>\n",
       "    </tr>\n",
       "  </tbody>\n",
       "</table>\n",
       "<p>7081 rows × 20 columns</p>\n",
       "</div>"
      ],
      "text/plain": [
       "      Attrition_Flag  Customer_Age  Gender  Dependent_count  Education_Level  \\\n",
       "0                1.0      0.404255     1.0              0.6              0.6   \n",
       "1                1.0      0.489362     0.0              1.0              0.4   \n",
       "2                1.0      0.531915     1.0              0.6              0.4   \n",
       "3                1.0      0.297872     1.0              0.6              1.0   \n",
       "4                1.0      0.382979     1.0              0.4              0.4   \n",
       "...              ...           ...     ...              ...              ...   \n",
       "7076             1.0      0.595745     1.0              0.2              0.6   \n",
       "7077             1.0      0.638298     0.0              0.2              0.4   \n",
       "7078             1.0      0.510638     1.0              0.4              0.4   \n",
       "7079             0.0      0.382979     0.0              0.2              0.6   \n",
       "7080             0.0      0.361702     0.0              0.4              0.4   \n",
       "\n",
       "      Marital_Status  Income_Category  Card_Category  Months_on_book  \\\n",
       "0                0.5             0.50            0.0        0.604651   \n",
       "1                1.0             1.00            0.0        0.720930   \n",
       "2                0.5             0.75            0.0        0.534884   \n",
       "3                0.5             0.50            0.0        0.186047   \n",
       "4                0.5             0.25            0.0        0.534884   \n",
       "...              ...              ...            ...             ...   \n",
       "7076             1.0             0.50            0.0        0.488372   \n",
       "7077             1.0             1.00            0.0        0.860465   \n",
       "7078             1.0             0.25            0.0        0.627907   \n",
       "7079             0.5             1.00            0.0        0.534884   \n",
       "7080             0.5             1.00            1.0        0.279070   \n",
       "\n",
       "      Total_Relationship_Count  Months_Inactive_12_mon  Contacts_Count_12_mon  \\\n",
       "0                          0.8                0.166667               0.500000   \n",
       "1                          1.0                0.166667               0.333333   \n",
       "2                          0.6                0.166667               0.000000   \n",
       "3                          0.8                0.166667               0.000000   \n",
       "4                          0.4                0.166667               0.333333   \n",
       "...                        ...                     ...                    ...   \n",
       "7076                       0.8                0.333333               0.000000   \n",
       "7077                       0.6                0.166667               0.666667   \n",
       "7078                       0.4                0.333333               0.500000   \n",
       "7079                       0.8                0.500000               0.666667   \n",
       "7080                       1.0                0.333333               0.666667   \n",
       "\n",
       "      Credit_Limit  Total_Revolving_Bal  Avg_Open_To_Buy  \\\n",
       "0         0.340190             0.308701         0.345116   \n",
       "1         0.206112             0.343266         0.214093   \n",
       "2         0.059850             0.000000         0.098948   \n",
       "3         0.099091             0.000000         0.136557   \n",
       "4         0.077747             0.495431         0.079970   \n",
       "...            ...                  ...              ...   \n",
       "7076      0.377949             0.837902         0.342711   \n",
       "7077      0.068013             0.240763         0.089213   \n",
       "7078      0.077536             0.735399         0.062266   \n",
       "7079      0.120042             0.000000         0.156637   \n",
       "7080      0.270566             0.779102         0.244082   \n",
       "\n",
       "      Total_Amt_Chng_Q4_Q1  Total_Trans_Amt  Total_Trans_Ct  \\\n",
       "0                 0.392994         0.036260        0.258065   \n",
       "1                 0.453636         0.044667        0.185484   \n",
       "2                 0.763615         0.078753        0.080645   \n",
       "3                 0.640271         0.017501        0.145161   \n",
       "4                 0.405063         0.033057        0.112903   \n",
       "...                    ...              ...             ...   \n",
       "7076              0.194289         0.861710        0.838710   \n",
       "7077              0.167795         0.805605        0.887097   \n",
       "7078              0.206947         0.855934        0.862903   \n",
       "7079              0.241095         0.559394        0.403226   \n",
       "7080              0.206947         0.559565        0.411290   \n",
       "\n",
       "      Total_Ct_Chng_Q4_Q1  Avg_Utilization_Ratio  \n",
       "0                0.437534               0.061061  \n",
       "1                1.000000               0.105105  \n",
       "2                0.628164               0.000000  \n",
       "3                0.673129               0.000000  \n",
       "4                0.227787               0.311311  \n",
       "...                   ...                    ...  \n",
       "7076             0.203016               0.151151  \n",
       "7077             0.212978               0.164164  \n",
       "7078             0.230749               0.462462  \n",
       "7079             0.220248               0.000000  \n",
       "7080             0.174744               0.189189  \n",
       "\n",
       "[7081 rows x 20 columns]"
      ]
     },
     "execution_count": 9,
     "metadata": {},
     "output_type": "execute_result"
    }
   ],
   "source": [
    "df"
   ]
  },
  {
   "cell_type": "code",
   "execution_count": 10,
   "id": "8a234817",
   "metadata": {},
   "outputs": [],
   "source": [
    "trainSample = df.sample(frac=0.8, random_state = 1) #seleção de 80% da base para treinamento\n",
    "testSample = pd.concat([df, trainSample]).drop_duplicates(keep=False) #concatena a base original com a base de treinamento e exclui os duplicados, sobrando a amostra de teste\n",
    "\n",
    "trainTarget = trainSample[\"Attrition_Flag\"] #define o atributo alvo da base para o treinamento\n",
    "testTarget = testSample[\"Attrition_Flag\"] #define o atributo alvo da base para o teste\n",
    "\n",
    "\n",
    "del testSample[\"Attrition_Flag\"]\n",
    "del trainSample[\"Attrition_Flag\"]"
   ]
  },
  {
   "cell_type": "code",
   "execution_count": 12,
   "id": "f60dc749",
   "metadata": {},
   "outputs": [],
   "source": [
    "knn = neighbors.KNeighborsClassifier(n_neighbors=1, algorithm=\"auto\") #k vizinhos mais próximos = n_neighbors\n",
    "knn.fit(trainSample.values, trainTarget.values)\n",
    "resultKNN = knn.predict(testSample.values)"
   ]
  },
  {
   "cell_type": "code",
   "execution_count": 15,
   "id": "09be4c3c",
   "metadata": {
    "scrolled": true
   },
   "outputs": [
    {
     "name": "stdout",
     "output_type": "stream",
     "text": [
      "N = 1\n",
      "Acurácia: 0.87\n",
      "Precisão Média: 0.90\n",
      "Brier Score Loss: 0.13\n",
      "Matriz de Confusão:\n",
      " [[ 111  119]\n",
      " [  72 1114]]\n"
     ]
    }
   ],
   "source": [
    "print(\"N = 1\")\n",
    "print(\"Acurácia: %0.2f\" % (metrics.accuracy_score(testTarget, resultKNN)))\n",
    "print(\"Precisão Média: %0.2f\" % (metrics.average_precision_score(testTarget, resultKNN)))\n",
    "print(\"Brier Score Loss: %0.2f\" % (metrics.brier_score_loss(testTarget, resultKNN)))\n",
    "\n",
    "matrizConfusao = metrics.confusion_matrix(testTarget, resultKNN)\n",
    "print(\"Matriz de Confusão:\\n\",matrizConfusao)"
   ]
  },
  {
   "cell_type": "code",
   "execution_count": 18,
   "id": "b331e07d",
   "metadata": {},
   "outputs": [],
   "source": [
    "knn = neighbors.KNeighborsClassifier(n_neighbors=2, algorithm=\"auto\") #k vizinhos mais próximos = n_neighbors\n",
    "knn.fit(trainSample.values, trainTarget.values)\n",
    "resultKNN = knn.predict(testSample.values)"
   ]
  },
  {
   "cell_type": "code",
   "execution_count": 19,
   "id": "474e4640",
   "metadata": {},
   "outputs": [
    {
     "name": "stdout",
     "output_type": "stream",
     "text": [
      "N = 2\n",
      "Acurácia: 0.84\n",
      "Precisão Média: 0.91\n",
      "Brier Score Loss: 0.16\n",
      "Matriz de Confusão:\n",
      " [[ 144   86]\n",
      " [ 142 1044]]\n"
     ]
    }
   ],
   "source": [
    "print(\"N = 2\")\n",
    "print(\"Acurácia: %0.2f\" % (metrics.accuracy_score(testTarget, resultKNN)))\n",
    "print(\"Precisão Média: %0.2f\" % (metrics.average_precision_score(testTarget, resultKNN)))\n",
    "print(\"Brier Score Loss: %0.2f\" % (metrics.brier_score_loss(testTarget, resultKNN)))\n",
    "\n",
    "matrizConfusao = metrics.confusion_matrix(testTarget, resultKNN)\n",
    "print(\"Matriz de Confusão:\\n\",matrizConfusao)"
   ]
  },
  {
   "cell_type": "code",
   "execution_count": 16,
   "id": "97654807",
   "metadata": {},
   "outputs": [],
   "source": [
    "knn = neighbors.KNeighborsClassifier(n_neighbors=3, algorithm=\"auto\") #k vizinhos mais próximos = n_neighbors\n",
    "knn.fit(trainSample.values, trainTarget.values)\n",
    "resultKNN = knn.predict(testSample.values)"
   ]
  },
  {
   "cell_type": "code",
   "execution_count": 17,
   "id": "7542ca21",
   "metadata": {},
   "outputs": [
    {
     "name": "stdout",
     "output_type": "stream",
     "text": [
      "N = 3\n",
      "Acurácia: 0.88\n",
      "Precisão Média: 0.90\n",
      "Brier Score Loss: 0.12\n",
      "Matriz de Confusão:\n",
      " [[ 100  130]\n",
      " [  44 1142]]\n"
     ]
    }
   ],
   "source": [
    "print(\"N = 3\")\n",
    "print(\"Acurácia: %0.2f\" % (metrics.accuracy_score(testTarget, resultKNN)))\n",
    "print(\"Precisão Média: %0.2f\" % (metrics.average_precision_score(testTarget, resultKNN)))\n",
    "print(\"Brier Score Loss: %0.2f\" % (metrics.brier_score_loss(testTarget, resultKNN)))\n",
    "\n",
    "matrizConfusao = metrics.confusion_matrix(testTarget, resultKNN)\n",
    "print(\"Matriz de Confusão:\\n\",matrizConfusao)"
   ]
  },
  {
   "cell_type": "code",
   "execution_count": 20,
   "id": "1e671df5",
   "metadata": {},
   "outputs": [],
   "source": [
    "knn = neighbors.KNeighborsClassifier(n_neighbors=5, algorithm=\"auto\") #k vizinhos mais próximos = n_neighbors\n",
    "knn.fit(trainSample.values, trainTarget.values)\n",
    "resultKNN = knn.predict(testSample.values)"
   ]
  },
  {
   "cell_type": "code",
   "execution_count": 21,
   "id": "9236362d",
   "metadata": {},
   "outputs": [
    {
     "name": "stdout",
     "output_type": "stream",
     "text": [
      "N = 5\n",
      "Acurácia: 0.88\n",
      "Precisão Média: 0.89\n",
      "Brier Score Loss: 0.12\n",
      "Matriz de Confusão:\n",
      " [[  96  134]\n",
      " [  35 1151]]\n"
     ]
    }
   ],
   "source": [
    "print(\"N = 5\")\n",
    "print(\"Acurácia: %0.2f\" % (metrics.accuracy_score(testTarget, resultKNN)))\n",
    "print(\"Precisão Média: %0.2f\" % (metrics.average_precision_score(testTarget, resultKNN)))\n",
    "print(\"Brier Score Loss: %0.2f\" % (metrics.brier_score_loss(testTarget, resultKNN)))\n",
    "\n",
    "matrizConfusao = metrics.confusion_matrix(testTarget, resultKNN)\n",
    "print(\"Matriz de Confusão:\\n\",matrizConfusao)"
   ]
  },
  {
   "cell_type": "code",
   "execution_count": 26,
   "id": "8e7d7b55",
   "metadata": {},
   "outputs": [],
   "source": [
    "knn = neighbors.KNeighborsClassifier(n_neighbors=11, algorithm=\"auto\") #k vizinhos mais próximos = n_neighbors\n",
    "knn.fit(trainSample.values, trainTarget.values)\n",
    "resultKNN = knn.predict(testSample.values)"
   ]
  },
  {
   "cell_type": "code",
   "execution_count": 27,
   "id": "c746db48",
   "metadata": {},
   "outputs": [
    {
     "name": "stdout",
     "output_type": "stream",
     "text": [
      "N = 10\n",
      "Acurácia: 0.88\n",
      "Precisão Média: 0.88\n",
      "Brier Score Loss: 0.12\n",
      "Matriz de Confusão:\n",
      " [[  76  154]\n",
      " [  16 1170]]\n"
     ]
    }
   ],
   "source": [
    "print(\"N = 10\")\n",
    "print(\"Acurácia: %0.2f\" % (metrics.accuracy_score(testTarget, resultKNN)))\n",
    "print(\"Precisão Média: %0.2f\" % (metrics.average_precision_score(testTarget, resultKNN)))\n",
    "print(\"Brier Score Loss: %0.2f\" % (metrics.brier_score_loss(testTarget, resultKNN)))\n",
    "\n",
    "matrizConfusao = metrics.confusion_matrix(testTarget, resultKNN)\n",
    "print(\"Matriz de Confusão:\\n\",matrizConfusao)"
   ]
  },
  {
   "cell_type": "markdown",
   "id": "5763317d",
   "metadata": {},
   "source": [
    "<h2>Métricas de Similaridade"
   ]
  },
  {
   "cell_type": "code",
   "execution_count": 28,
   "id": "59f8f163",
   "metadata": {},
   "outputs": [],
   "source": [
    "knn = neighbors.KNeighborsClassifier(n_neighbors=3, algorithm=\"auto\", metric=\"manhattan\") #k vizinhos mais próximos = n_neighbors\n",
    "knn.fit(trainSample.values, trainTarget.values)\n",
    "resultKNN = knn.predict(testSample.values)"
   ]
  },
  {
   "cell_type": "code",
   "execution_count": 30,
   "id": "2037f6ed",
   "metadata": {},
   "outputs": [
    {
     "name": "stdout",
     "output_type": "stream",
     "text": [
      "N = 3 Manhattan\n",
      "Acurácia: 0.89\n",
      "Precisão Média: 0.90\n",
      "Brier Score Loss: 0.11\n",
      "Matriz de Confusão:\n",
      " [[ 108  122]\n",
      " [  27 1159]]\n"
     ]
    }
   ],
   "source": [
    "print(\"N = 3 Manhattan\")\n",
    "print(\"Acurácia: %0.2f\" % (metrics.accuracy_score(testTarget, resultKNN)))\n",
    "print(\"Precisão Média: %0.2f\" % (metrics.average_precision_score(testTarget, resultKNN)))\n",
    "print(\"Brier Score Loss: %0.2f\" % (metrics.brier_score_loss(testTarget, resultKNN)))\n",
    "\n",
    "matrizConfusao = metrics.confusion_matrix(testTarget, resultKNN)\n",
    "print(\"Matriz de Confusão:\\n\",matrizConfusao)"
   ]
  },
  {
   "cell_type": "code",
   "execution_count": 31,
   "id": "1a9b5e08",
   "metadata": {},
   "outputs": [],
   "source": [
    "knn = neighbors.KNeighborsClassifier(n_neighbors=3, algorithm=\"auto\", metric=\"chebyshev\") #k vizinhos mais próximos = n_neighbors\n",
    "knn.fit(trainSample.values, trainTarget.values)\n",
    "resultKNN = knn.predict(testSample.values)"
   ]
  },
  {
   "cell_type": "code",
   "execution_count": 32,
   "id": "fa5f21e8",
   "metadata": {},
   "outputs": [
    {
     "name": "stdout",
     "output_type": "stream",
     "text": [
      "N = 3 Chebyshev\n",
      "Acurácia: 0.86\n",
      "Precisão Média: 0.88\n",
      "Brier Score Loss: 0.14\n",
      "Matriz de Confusão:\n",
      " [[  86  144]\n",
      " [  57 1129]]\n"
     ]
    }
   ],
   "source": [
    "print(\"N = 3 Chebyshev\")\n",
    "print(\"Acurácia: %0.2f\" % (metrics.accuracy_score(testTarget, resultKNN)))\n",
    "print(\"Precisão Média: %0.2f\" % (metrics.average_precision_score(testTarget, resultKNN)))\n",
    "print(\"Brier Score Loss: %0.2f\" % (metrics.brier_score_loss(testTarget, resultKNN)))\n",
    "\n",
    "matrizConfusao = metrics.confusion_matrix(testTarget, resultKNN)\n",
    "print(\"Matriz de Confusão:\\n\",matrizConfusao)"
   ]
  },
  {
   "cell_type": "code",
   "execution_count": 33,
   "id": "53bba56d",
   "metadata": {},
   "outputs": [],
   "source": [
    "knn = neighbors.KNeighborsClassifier(n_neighbors=3, algorithm=\"auto\", metric=\"euclidean\") #k vizinhos mais próximos = n_neighbors\n",
    "knn.fit(trainSample.values, trainTarget.values)\n",
    "resultKNN = knn.predict(testSample.values)"
   ]
  },
  {
   "cell_type": "code",
   "execution_count": 34,
   "id": "41f2bf93",
   "metadata": {},
   "outputs": [
    {
     "name": "stdout",
     "output_type": "stream",
     "text": [
      "N = 3 Euclidean\n",
      "Acurácia: 0.88\n",
      "Precisão Média: 0.90\n",
      "Brier Score Loss: 0.12\n",
      "Matriz de Confusão:\n",
      " [[ 100  130]\n",
      " [  44 1142]]\n"
     ]
    }
   ],
   "source": [
    "print(\"N = 3 Euclidean\")\n",
    "print(\"Acurácia: %0.2f\" % (metrics.accuracy_score(testTarget, resultKNN)))\n",
    "print(\"Precisão Média: %0.2f\" % (metrics.average_precision_score(testTarget, resultKNN)))\n",
    "print(\"Brier Score Loss: %0.2f\" % (metrics.brier_score_loss(testTarget, resultKNN)))\n",
    "\n",
    "matrizConfusao = metrics.confusion_matrix(testTarget, resultKNN)\n",
    "print(\"Matriz de Confusão:\\n\",matrizConfusao)"
   ]
  },
  {
   "cell_type": "code",
   "execution_count": null,
   "id": "0603ef23",
   "metadata": {},
   "outputs": [],
   "source": []
  }
 ],
 "metadata": {
  "kernelspec": {
   "display_name": "Python 3 (ipykernel)",
   "language": "python",
   "name": "python3"
  },
  "language_info": {
   "codemirror_mode": {
    "name": "ipython",
    "version": 3
   },
   "file_extension": ".py",
   "mimetype": "text/x-python",
   "name": "python",
   "nbconvert_exporter": "python",
   "pygments_lexer": "ipython3",
   "version": "3.8.10"
  }
 },
 "nbformat": 4,
 "nbformat_minor": 5
}
