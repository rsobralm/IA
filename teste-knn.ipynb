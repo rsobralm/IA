{
 "cells": [
  {
   "cell_type": "code",
   "execution_count": 1,
   "id": "3ab3822a",
   "metadata": {},
   "outputs": [],
   "source": [
    "import pandas as pd\n",
    "import matplotlib.pyplot as plt\n",
    "import numpy as np\n",
    "from sklearn import cluster, neighbors, svm, metrics, preprocessing"
   ]
  },
  {
   "cell_type": "code",
   "execution_count": 2,
   "id": "89ee98ba",
   "metadata": {},
   "outputs": [],
   "source": [
    "df = pd.read_csv('BankChurners.csv', delimiter=\",\")"
   ]
  },
  {
   "cell_type": "code",
   "execution_count": 3,
   "id": "f5026d1e",
   "metadata": {},
   "outputs": [
    {
     "name": "stderr",
     "output_type": "stream",
     "text": [
      "/home/rafael/.local/lib/python3.8/site-packages/pandas/core/computation/expressions.py:68: FutureWarning: elementwise comparison failed; returning scalar instead, but in the future will perform elementwise comparison\n",
      "  return op(a, b)\n",
      "/home/rafael/.local/lib/python3.8/site-packages/pandas/core/computation/expressions.py:68: FutureWarning: elementwise comparison failed; returning scalar instead, but in the future will perform elementwise comparison\n",
      "  return op(a, b)\n",
      "/home/rafael/.local/lib/python3.8/site-packages/pandas/core/computation/expressions.py:68: FutureWarning: elementwise comparison failed; returning scalar instead, but in the future will perform elementwise comparison\n",
      "  return op(a, b)\n",
      "/home/rafael/.local/lib/python3.8/site-packages/pandas/core/computation/expressions.py:68: FutureWarning: elementwise comparison failed; returning scalar instead, but in the future will perform elementwise comparison\n",
      "  return op(a, b)\n",
      "/home/rafael/.local/lib/python3.8/site-packages/pandas/core/computation/expressions.py:68: FutureWarning: elementwise comparison failed; returning scalar instead, but in the future will perform elementwise comparison\n",
      "  return op(a, b)\n",
      "/home/rafael/.local/lib/python3.8/site-packages/pandas/core/computation/expressions.py:68: FutureWarning: elementwise comparison failed; returning scalar instead, but in the future will perform elementwise comparison\n",
      "  return op(a, b)\n",
      "/home/rafael/.local/lib/python3.8/site-packages/pandas/core/computation/expressions.py:68: FutureWarning: elementwise comparison failed; returning scalar instead, but in the future will perform elementwise comparison\n",
      "  return op(a, b)\n",
      "/home/rafael/.local/lib/python3.8/site-packages/pandas/core/computation/expressions.py:68: FutureWarning: elementwise comparison failed; returning scalar instead, but in the future will perform elementwise comparison\n",
      "  return op(a, b)\n",
      "/home/rafael/.local/lib/python3.8/site-packages/pandas/core/computation/expressions.py:68: FutureWarning: elementwise comparison failed; returning scalar instead, but in the future will perform elementwise comparison\n",
      "  return op(a, b)\n",
      "/home/rafael/.local/lib/python3.8/site-packages/pandas/core/computation/expressions.py:68: FutureWarning: elementwise comparison failed; returning scalar instead, but in the future will perform elementwise comparison\n",
      "  return op(a, b)\n",
      "/home/rafael/.local/lib/python3.8/site-packages/pandas/core/computation/expressions.py:68: FutureWarning: elementwise comparison failed; returning scalar instead, but in the future will perform elementwise comparison\n",
      "  return op(a, b)\n",
      "/home/rafael/.local/lib/python3.8/site-packages/pandas/core/computation/expressions.py:68: FutureWarning: elementwise comparison failed; returning scalar instead, but in the future will perform elementwise comparison\n",
      "  return op(a, b)\n",
      "/home/rafael/.local/lib/python3.8/site-packages/pandas/core/computation/expressions.py:68: FutureWarning: elementwise comparison failed; returning scalar instead, but in the future will perform elementwise comparison\n",
      "  return op(a, b)\n",
      "/home/rafael/.local/lib/python3.8/site-packages/pandas/core/computation/expressions.py:68: FutureWarning: elementwise comparison failed; returning scalar instead, but in the future will perform elementwise comparison\n",
      "  return op(a, b)\n",
      "/home/rafael/.local/lib/python3.8/site-packages/pandas/core/computation/expressions.py:68: FutureWarning: elementwise comparison failed; returning scalar instead, but in the future will perform elementwise comparison\n",
      "  return op(a, b)\n",
      "/home/rafael/.local/lib/python3.8/site-packages/pandas/core/computation/expressions.py:68: FutureWarning: elementwise comparison failed; returning scalar instead, but in the future will perform elementwise comparison\n",
      "  return op(a, b)\n",
      "/home/rafael/.local/lib/python3.8/site-packages/pandas/core/computation/expressions.py:68: FutureWarning: elementwise comparison failed; returning scalar instead, but in the future will perform elementwise comparison\n",
      "  return op(a, b)\n"
     ]
    }
   ],
   "source": [
    "for column in df.columns:\n",
    "    df = df[df[column] != \"Unknown\"]"
   ]
  },
  {
   "cell_type": "code",
   "execution_count": 4,
   "id": "b65d3976",
   "metadata": {},
   "outputs": [],
   "source": [
    "df = df.drop(columns=['Naive_Bayes_Classifier_Attrition_Flag_Card_Category_Contacts_Count_12_mon_Dependent_count_Education_Level_Months_Inactive_12_mon_1','Naive_Bayes_Classifier_Attrition_Flag_Card_Category_Contacts_Count_12_mon_Dependent_count_Education_Level_Months_Inactive_12_mon_2'])"
   ]
  },
  {
   "cell_type": "code",
   "execution_count": 5,
   "id": "10a29d1e",
   "metadata": {},
   "outputs": [
    {
     "name": "stdout",
     "output_type": "stream",
     "text": [
      "       CLIENTNUM  Attrition_Flag  Customer_Age  Gender  Dependent_count  \\\n",
      "0      768805383               1            45       1                3   \n",
      "1      818770008               1            49       0                5   \n",
      "2      713982108               1            51       1                3   \n",
      "4      709106358               1            40       1                3   \n",
      "5      713061558               1            44       1                2   \n",
      "...          ...             ...           ...     ...              ...   \n",
      "10120  710841183               1            54       1                1   \n",
      "10121  713899383               1            56       0                1   \n",
      "10122  772366833               1            50       1                2   \n",
      "10124  716506083               0            44       0                1   \n",
      "10126  714337233               0            43       0                2   \n",
      "\n",
      "       Education_Level  Marital_Status  Income_Category  Card_Category  \\\n",
      "0                    3               1                2              0   \n",
      "1                    2               2                4              0   \n",
      "2                    2               1                3              0   \n",
      "4                    5               1                2              0   \n",
      "5                    2               1                1              0   \n",
      "...                ...             ...              ...            ...   \n",
      "10120                3               2                2              0   \n",
      "10121                2               2                4              0   \n",
      "10122                2               2                1              0   \n",
      "10124                3               1                4              0   \n",
      "10126                2               1                4              3   \n",
      "\n",
      "       Months_on_book  ...  Months_Inactive_12_mon  Contacts_Count_12_mon  \\\n",
      "0                  39  ...                       1                      3   \n",
      "1                  44  ...                       1                      2   \n",
      "2                  36  ...                       1                      0   \n",
      "4                  21  ...                       1                      0   \n",
      "5                  36  ...                       1                      2   \n",
      "...               ...  ...                     ...                    ...   \n",
      "10120              34  ...                       2                      0   \n",
      "10121              50  ...                       1                      4   \n",
      "10122              40  ...                       2                      3   \n",
      "10124              36  ...                       3                      4   \n",
      "10126              25  ...                       2                      4   \n",
      "\n",
      "       Credit_Limit  Total_Revolving_Bal  Avg_Open_To_Buy  \\\n",
      "0           12691.0                  777          11914.0   \n",
      "1            8256.0                  864           7392.0   \n",
      "2            3418.0                    0           3418.0   \n",
      "4            4716.0                    0           4716.0   \n",
      "5            4010.0                 1247           2763.0   \n",
      "...             ...                  ...              ...   \n",
      "10120       13940.0                 2109          11831.0   \n",
      "10121        3688.0                  606           3082.0   \n",
      "10122        4003.0                 1851           2152.0   \n",
      "10124        5409.0                    0           5409.0   \n",
      "10126       10388.0                 1961           8427.0   \n",
      "\n",
      "       Total_Amt_Chng_Q4_Q1  Total_Trans_Amt  Total_Trans_Ct  \\\n",
      "0                     1.335             1144              42   \n",
      "1                     1.541             1291              33   \n",
      "2                     2.594             1887              20   \n",
      "4                     2.175              816              28   \n",
      "5                     1.376             1088              24   \n",
      "...                     ...              ...             ...   \n",
      "10120                 0.660            15577             114   \n",
      "10121                 0.570            14596             120   \n",
      "10122                 0.703            15476             117   \n",
      "10124                 0.819            10291              60   \n",
      "10126                 0.703            10294              61   \n",
      "\n",
      "       Total_Ct_Chng_Q4_Q1  Avg_Utilization_Ratio  \n",
      "0                    1.625                  0.061  \n",
      "1                    3.714                  0.105  \n",
      "2                    2.333                  0.000  \n",
      "4                    2.500                  0.000  \n",
      "5                    0.846                  0.311  \n",
      "...                    ...                    ...  \n",
      "10120                0.754                  0.151  \n",
      "10121                0.791                  0.164  \n",
      "10122                0.857                  0.462  \n",
      "10124                0.818                  0.000  \n",
      "10126                0.649                  0.189  \n",
      "\n",
      "[7081 rows x 21 columns]\n"
     ]
    }
   ],
   "source": [
    "le = preprocessing.LabelEncoder() #transforma atributos qualitativos em quantitativos\n",
    "for column in df.columns:\n",
    "    if df[column].dtypes == 'object':\n",
    "        df[column] = le.fit_transform(df[column])\n",
    "        \n",
    "print(df)"
   ]
  },
  {
   "cell_type": "code",
   "execution_count": 6,
   "id": "34fdad3f",
   "metadata": {},
   "outputs": [],
   "source": [
    "trainSample = df.sample(frac=0.8, random_state = 1) #seleção de 80% da base para treinamento\n",
    "testSample = pd.concat([df, trainSample]).drop_duplicates(keep=False) #concatena a base original com a base de treinamento e exclui os duplicados, sobrando a amostra de teste\n",
    "\n",
    "trainTarget = trainSample[\"Income_Category\"] #define o atributo alvo da base para o treinamento\n",
    "testTarget = testSample[\"Income_Category\"] #define o atributo alvo da base para o teste\n",
    "\n",
    "\n",
    "del testSample[\"Income_Category\"]\n",
    "del trainSample[\"Income_Category\"]"
   ]
  },
  {
   "cell_type": "code",
   "execution_count": 7,
   "id": "3537c6c7",
   "metadata": {},
   "outputs": [
    {
     "name": "stderr",
     "output_type": "stream",
     "text": [
      "/home/rafael/.local/lib/python3.8/site-packages/sklearn/base.py:441: UserWarning: X does not have valid feature names, but KNeighborsClassifier was fitted with feature names\n",
      "  warnings.warn(\n"
     ]
    }
   ],
   "source": [
    "knn = neighbors.KNeighborsClassifier(n_neighbors=1, algorithm=\"auto\") #k vizinhos mais próximos = n_neighbors\n",
    "knn.fit(trainSample, trainTarget)\n",
    "resultKNN = knn.predict(testSample)"
   ]
  },
  {
   "cell_type": "code",
   "execution_count": 8,
   "id": "48122ac4",
   "metadata": {},
   "outputs": [
    {
     "name": "stdout",
     "output_type": "stream",
     "text": [
      "\n",
      "K-NN\n",
      "Acurácia: 0.31\n",
      "Matriz de Confusão:\n",
      " [[ 14  17  22  24  30]\n",
      " [ 12  63  35  30 150]\n",
      " [ 21  61  33  40  71]\n",
      " [ 18  39  43  57  63]\n",
      " [ 19 154  65  61 274]]\n"
     ]
    }
   ],
   "source": [
    "print(\"\\nK-NN\")\n",
    "print(\"Acurácia: %0.2f\" % (metrics.accuracy_score(testTarget, resultKNN)))\n",
    "\n",
    "\n",
    "matrizConfusao = metrics.confusion_matrix(testTarget, resultKNN)\n",
    "print(\"Matriz de Confusão:\\n\",matrizConfusao)"
   ]
  },
  {
   "cell_type": "code",
   "execution_count": 9,
   "id": "2fef8560",
   "metadata": {},
   "outputs": [
    {
     "name": "stderr",
     "output_type": "stream",
     "text": [
      "/home/rafael/.local/lib/python3.8/site-packages/sklearn/base.py:441: UserWarning: X does not have valid feature names, but KNeighborsClassifier was fitted with feature names\n",
      "  warnings.warn(\n"
     ]
    }
   ],
   "source": [
    "knn = neighbors.KNeighborsClassifier(n_neighbors=5, algorithm=\"auto\") #k vizinhos mais próximos = n_neighbors\n",
    "knn.fit(trainSample, trainTarget)\n",
    "resultKNN = knn.predict(testSample)"
   ]
  },
  {
   "cell_type": "code",
   "execution_count": 10,
   "id": "caf420a3",
   "metadata": {},
   "outputs": [
    {
     "name": "stdout",
     "output_type": "stream",
     "text": [
      "\n",
      "K-NN\n",
      "Acurácia: 0.33\n",
      "Matriz de Confusão:\n",
      " [[ 10  19  17  23  38]\n",
      " [ 14  80  27  18 151]\n",
      " [ 20  54  35  31  86]\n",
      " [ 17  50  35  32  86]\n",
      " [ 16 165  36  47 309]]\n"
     ]
    }
   ],
   "source": [
    "print(\"\\nK-NN\")\n",
    "print(\"Acurácia: %0.2f\" % (metrics.accuracy_score(testTarget, resultKNN)))\n",
    "\n",
    "\n",
    "matrizConfusao = metrics.confusion_matrix(testTarget, resultKNN)\n",
    "print(\"Matriz de Confusão:\\n\",matrizConfusao)"
   ]
  },
  {
   "cell_type": "code",
   "execution_count": 11,
   "id": "702c6150",
   "metadata": {},
   "outputs": [],
   "source": [
    "trainSample = df.sample(frac=0.8, random_state = 1) #seleção de 80% da base para treinamento\n",
    "testSample = pd.concat([df, trainSample]).drop_duplicates(keep=False) #concatena a base original com a base de treinamento e exclui os duplicados, sobrando a amostra de teste\n",
    "\n",
    "trainTarget = trainSample[\"Avg_Utilization_Ratio\"] #define o atributo alvo da base para o treinamento\n",
    "testTarget = testSample[\"Avg_Utilization_Ratio\"] #define o atributo alvo da base para o teste\n",
    "\n",
    "\n",
    "del testSample[\"Avg_Utilization_Ratio\"]\n",
    "del trainSample[\"Avg_Utilization_Ratio\"]"
   ]
  },
  {
   "cell_type": "code",
   "execution_count": 12,
   "id": "c1fe141c",
   "metadata": {},
   "outputs": [
    {
     "name": "stderr",
     "output_type": "stream",
     "text": [
      "/home/rafael/.local/lib/python3.8/site-packages/sklearn/base.py:441: UserWarning: X does not have valid feature names, but KNeighborsRegressor was fitted with feature names\n",
      "  warnings.warn(\n"
     ]
    }
   ],
   "source": [
    "knn = neighbors.KNeighborsRegressor(n_neighbors=5, algorithm=\"auto\") #k vizinhos mais próximos = n_neighbors\n",
    "knn.fit(trainSample, trainTarget)\n",
    "resultKNN = knn.predict(testSample)"
   ]
  },
  {
   "cell_type": "code",
   "execution_count": 13,
   "id": "d8d57787",
   "metadata": {},
   "outputs": [
    {
     "data": {
      "text/plain": [
       "array([0.4456, 0.2344, 0.3442, ..., 0.3732, 0.4344, 0.345 ])"
      ]
     },
     "execution_count": 13,
     "metadata": {},
     "output_type": "execute_result"
    }
   ],
   "source": [
    "resultKNN\n"
   ]
  },
  {
   "cell_type": "code",
   "execution_count": 14,
   "id": "a9af2c5e",
   "metadata": {},
   "outputs": [
    {
     "name": "stdout",
     "output_type": "stream",
     "text": [
      "\n",
      "K-NN\n",
      "Erro maximo: 0.83\n"
     ]
    }
   ],
   "source": [
    "print(\"\\nK-NN\")\n",
    "print(\"Erro maximo: %0.2f\" % (metrics.max_error(testTarget, resultKNN)))"
   ]
  },
  {
   "cell_type": "code",
   "execution_count": 15,
   "id": "f5d312c6",
   "metadata": {},
   "outputs": [
    {
     "name": "stdout",
     "output_type": "stream",
     "text": [
      "\n",
      "K-NN\n",
      "Media Erro absoluto: 0.24\n"
     ]
    }
   ],
   "source": [
    "print(\"\\nK-NN\")\n",
    "print(\"Media Erro absoluto: %0.2f\" % (metrics.mean_absolute_error(testTarget, resultKNN)))"
   ]
  },
  {
   "cell_type": "code",
   "execution_count": 16,
   "id": "cd2c3f22",
   "metadata": {},
   "outputs": [],
   "source": [
    "trainSample = df.sample(frac=0.8, random_state = 1) #seleção de 80% da base para treinamento\n",
    "testSample = pd.concat([df, trainSample]).drop_duplicates(keep=False) #concatena a base original com a base de treinamento e exclui os duplicados, sobrando a amostra de teste\n",
    "\n",
    "trainTarget = trainSample[\"Income_Category\"] #define o atributo alvo da base para o treinamento\n",
    "testTarget = testSample[\"Income_Category\"] #define o atributo alvo da base para o teste\n",
    "\n",
    "\n",
    "del testSample[\"Income_Category\"]\n",
    "del trainSample[\"Income_Category\"]"
   ]
  },
  {
   "cell_type": "code",
   "execution_count": 17,
   "id": "a811708c",
   "metadata": {},
   "outputs": [
    {
     "name": "stderr",
     "output_type": "stream",
     "text": [
      "/home/rafael/.local/lib/python3.8/site-packages/sklearn/base.py:441: UserWarning: X does not have valid feature names, but KNeighborsClassifier was fitted with feature names\n",
      "  warnings.warn(\n"
     ]
    }
   ],
   "source": [
    "knn = neighbors.KNeighborsClassifier(n_neighbors=15, algorithm=\"auto\") #k vizinhos mais próximos = n_neighbors\n",
    "knn.fit(trainSample, trainTarget)\n",
    "resultKNN = knn.predict(testSample)"
   ]
  },
  {
   "cell_type": "code",
   "execution_count": 18,
   "id": "5145c9ba",
   "metadata": {},
   "outputs": [
    {
     "name": "stdout",
     "output_type": "stream",
     "text": [
      "\n",
      "K-NN\n",
      "Acurácia: 0.36\n",
      "Matriz de Confusão:\n",
      " [[  3  19   8  12  65]\n",
      " [  0  55  15  13 207]\n",
      " [  3  37  16  13 157]\n",
      " [  0  33  15  25 147]\n",
      " [  0 106  24  27 416]]\n"
     ]
    }
   ],
   "source": [
    "print(\"\\nK-NN\")\n",
    "print(\"Acurácia: %0.2f\" % (metrics.accuracy_score(testTarget, resultKNN)))\n",
    "\n",
    "\n",
    "matrizConfusao = metrics.confusion_matrix(testTarget, resultKNN)\n",
    "print(\"Matriz de Confusão:\\n\",matrizConfusao)"
   ]
  },
  {
   "cell_type": "code",
   "execution_count": 19,
   "id": "f44156c1",
   "metadata": {},
   "outputs": [
    {
     "name": "stderr",
     "output_type": "stream",
     "text": [
      "/home/rafael/.local/lib/python3.8/site-packages/sklearn/base.py:441: UserWarning: X does not have valid feature names, but KNeighborsClassifier was fitted with feature names\n",
      "  warnings.warn(\n"
     ]
    }
   ],
   "source": [
    "knn = neighbors.KNeighborsClassifier(n_neighbors=100, algorithm=\"auto\") #k vizinhos mais próximos = n_neighbors\n",
    "knn.fit(trainSample, trainTarget)\n",
    "resultKNN = knn.predict(testSample)"
   ]
  },
  {
   "cell_type": "code",
   "execution_count": 20,
   "id": "f3b08897",
   "metadata": {},
   "outputs": [
    {
     "name": "stdout",
     "output_type": "stream",
     "text": [
      "\n",
      "K-NN\n",
      "Acurácia: 0.41\n",
      "Matriz de Confusão:\n",
      " [[  0   0   0   0 107]\n",
      " [  0   2   0   0 288]\n",
      " [  0   0   0   0 226]\n",
      " [  0   1   0   1 218]\n",
      " [  0   0   0   0 573]]\n"
     ]
    }
   ],
   "source": [
    "print(\"\\nK-NN\")\n",
    "print(\"Acurácia: %0.2f\" % (metrics.accuracy_score(testTarget, resultKNN)))\n",
    "\n",
    "\n",
    "matrizConfusao = metrics.confusion_matrix(testTarget, resultKNN)\n",
    "print(\"Matriz de Confusão:\\n\",matrizConfusao)"
   ]
  },
  {
   "cell_type": "code",
   "execution_count": 21,
   "id": "9b199a40",
   "metadata": {},
   "outputs": [
    {
     "name": "stderr",
     "output_type": "stream",
     "text": [
      "/home/rafael/.local/lib/python3.8/site-packages/sklearn/base.py:441: UserWarning: X does not have valid feature names, but KNeighborsClassifier was fitted with feature names\n",
      "  warnings.warn(\n"
     ]
    }
   ],
   "source": [
    "knn = neighbors.KNeighborsClassifier(n_neighbors=700, algorithm=\"auto\") #k vizinhos mais próximos = n_neighbors\n",
    "knn.fit(trainSample, trainTarget)\n",
    "resultKNN = knn.predict(testSample)"
   ]
  },
  {
   "cell_type": "code",
   "execution_count": 22,
   "id": "ab8e1a97",
   "metadata": {},
   "outputs": [
    {
     "name": "stdout",
     "output_type": "stream",
     "text": [
      "\n",
      "K-NN\n",
      "Acurácia: 0.40\n",
      "Matriz de Confusão:\n",
      " [[  0   0   0   0 107]\n",
      " [  0   0   0   0 290]\n",
      " [  0   0   0   0 226]\n",
      " [  0   0   0   0 220]\n",
      " [  0   0   0   0 573]]\n"
     ]
    }
   ],
   "source": [
    "print(\"\\nK-NN\")\n",
    "print(\"Acurácia: %0.2f\" % (metrics.accuracy_score(testTarget, resultKNN)))\n",
    "\n",
    "\n",
    "matrizConfusao = metrics.confusion_matrix(testTarget, resultKNN)\n",
    "print(\"Matriz de Confusão:\\n\",matrizConfusao)"
   ]
  },
  {
   "cell_type": "code",
   "execution_count": 23,
   "id": "d8974b4b",
   "metadata": {},
   "outputs": [
    {
     "name": "stderr",
     "output_type": "stream",
     "text": [
      "/home/rafael/.local/lib/python3.8/site-packages/sklearn/base.py:441: UserWarning: X does not have valid feature names, but KNeighborsClassifier was fitted with feature names\n",
      "  warnings.warn(\n"
     ]
    }
   ],
   "source": [
    "knn = neighbors.KNeighborsClassifier(n_neighbors=100, weights=\"distance\", algorithm=\"auto\") #k vizinhos mais próximos = n_neighbors\n",
    "knn.fit(trainSample, trainTarget)\n",
    "resultKNN = knn.predict(testSample)"
   ]
  },
  {
   "cell_type": "code",
   "execution_count": 24,
   "id": "045bbbb6",
   "metadata": {},
   "outputs": [
    {
     "name": "stdout",
     "output_type": "stream",
     "text": [
      "\n",
      "K-NN\n",
      "Acurácia: 0.38\n",
      "Matriz de Confusão:\n",
      " [[  1   7   4   8  87]\n",
      " [  1  27  11   5 246]\n",
      " [  1  18   9   8 190]\n",
      " [  1  13   8   6 192]\n",
      " [  1  51  15  16 490]]\n"
     ]
    }
   ],
   "source": [
    "print(\"\\nK-NN\")\n",
    "print(\"Acurácia: %0.2f\" % (metrics.accuracy_score(testTarget, resultKNN)))\n",
    "\n",
    "\n",
    "matrizConfusao = metrics.confusion_matrix(testTarget, resultKNN)\n",
    "print(\"Matriz de Confusão:\\n\",matrizConfusao)"
   ]
  },
  {
   "cell_type": "code",
   "execution_count": 25,
   "id": "3853f8a6",
   "metadata": {},
   "outputs": [
    {
     "data": {
      "text/plain": [
       "2        3\n",
       "25       4\n",
       "29       1\n",
       "33       4\n",
       "35       4\n",
       "        ..\n",
       "10093    2\n",
       "10099    4\n",
       "10105    4\n",
       "10111    2\n",
       "10114    4\n",
       "Name: Income_Category, Length: 1416, dtype: int64"
      ]
     },
     "execution_count": 25,
     "metadata": {},
     "output_type": "execute_result"
    }
   ],
   "source": [
    "testTarget"
   ]
  },
  {
   "cell_type": "code",
   "execution_count": 29,
   "id": "bd2dfe1c",
   "metadata": {},
   "outputs": [
    {
     "data": {
      "text/plain": [
       "pandas.core.series.Series"
      ]
     },
     "execution_count": 29,
     "metadata": {},
     "output_type": "execute_result"
    }
   ],
   "source": [
    "type(testTarget)"
   ]
  },
  {
   "cell_type": "code",
   "execution_count": 30,
   "id": "4c1f66c7",
   "metadata": {},
   "outputs": [
    {
     "data": {
      "text/plain": [
       "Int64Index([    2,    25,    29,    33,    35,    48,    51,    66,    67,\n",
       "               70,\n",
       "            ...\n",
       "            10075, 10080, 10085, 10086, 10087, 10093, 10099, 10105, 10111,\n",
       "            10114],\n",
       "           dtype='int64', length=1416)"
      ]
     },
     "execution_count": 30,
     "metadata": {},
     "output_type": "execute_result"
    }
   ],
   "source": [
    "testTarget.index"
   ]
  },
  {
   "cell_type": "code",
   "execution_count": 31,
   "id": "2d0752bc",
   "metadata": {},
   "outputs": [
    {
     "data": {
      "text/plain": [
       "3"
      ]
     },
     "execution_count": 31,
     "metadata": {},
     "output_type": "execute_result"
    }
   ],
   "source": [
    "testTarget[2]"
   ]
  },
  {
   "cell_type": "code",
   "execution_count": 32,
   "id": "c399879a",
   "metadata": {},
   "outputs": [
    {
     "data": {
      "text/plain": [
       "4"
      ]
     },
     "execution_count": 32,
     "metadata": {},
     "output_type": "execute_result"
    }
   ],
   "source": [
    "resultKNN[2]"
   ]
  },
  {
   "cell_type": "code",
   "execution_count": 33,
   "id": "5eed1714",
   "metadata": {},
   "outputs": [
    {
     "data": {
      "text/plain": [
       "array([4, 4, 4, ..., 4, 4, 4])"
      ]
     },
     "execution_count": 33,
     "metadata": {},
     "output_type": "execute_result"
    }
   ],
   "source": [
    "resultKNN"
   ]
  },
  {
   "cell_type": "code",
   "execution_count": 34,
   "id": "27543029",
   "metadata": {},
   "outputs": [
    {
     "name": "stdout",
     "output_type": "stream",
     "text": [
      "[4 4 4 ... 4 4 4]\n"
     ]
    }
   ],
   "source": [
    "print(resultKNN)"
   ]
  },
  {
   "cell_type": "code",
   "execution_count": 35,
   "id": "25c71635",
   "metadata": {},
   "outputs": [
    {
     "data": {
      "text/plain": [
       "4"
      ]
     },
     "execution_count": 35,
     "metadata": {},
     "output_type": "execute_result"
    }
   ],
   "source": [
    "resultKNN[764]"
   ]
  },
  {
   "cell_type": "code",
   "execution_count": 38,
   "id": "1d41c991",
   "metadata": {},
   "outputs": [
    {
     "name": "stdout",
     "output_type": "stream",
     "text": [
      "0\n",
      "3\n",
      "1\n",
      "1\n",
      "3\n",
      "1\n",
      "3\n",
      "0\n",
      "2\n",
      "1\n",
      "3\n",
      "1\n",
      "2\n",
      "2\n",
      "3\n",
      "3\n",
      "1\n",
      "3\n",
      "2\n",
      "2\n",
      "2\n",
      "1\n",
      "1\n",
      "3\n",
      "3\n",
      "1\n",
      "3\n",
      "1\n",
      "3\n",
      "1\n",
      "1\n",
      "1\n",
      "2\n",
      "3\n",
      "1\n",
      "1\n",
      "1\n",
      "1\n",
      "3\n",
      "1\n",
      "2\n",
      "1\n",
      "1\n",
      "1\n",
      "2\n",
      "1\n",
      "1\n",
      "2\n",
      "3\n",
      "1\n",
      "1\n",
      "1\n",
      "2\n",
      "1\n",
      "2\n",
      "3\n",
      "1\n",
      "1\n",
      "1\n",
      "1\n",
      "1\n",
      "2\n",
      "1\n",
      "1\n",
      "2\n",
      "1\n",
      "1\n",
      "1\n",
      "3\n",
      "1\n",
      "2\n",
      "1\n",
      "3\n",
      "1\n",
      "3\n",
      "2\n",
      "1\n",
      "2\n",
      "3\n",
      "1\n",
      "1\n",
      "3\n",
      "3\n",
      "3\n",
      "1\n",
      "2\n",
      "2\n",
      "2\n",
      "2\n",
      "1\n",
      "3\n",
      "1\n",
      "1\n",
      "3\n",
      "1\n",
      "1\n",
      "2\n",
      "1\n",
      "1\n",
      "2\n",
      "1\n",
      "1\n",
      "3\n",
      "3\n",
      "1\n",
      "2\n",
      "2\n",
      "2\n",
      "1\n",
      "1\n",
      "1\n",
      "1\n",
      "1\n",
      "2\n",
      "2\n",
      "1\n",
      "3\n",
      "1\n",
      "1\n",
      "2\n",
      "2\n",
      "2\n",
      "1\n",
      "2\n",
      "3\n",
      "1\n",
      "0\n",
      "2\n",
      "2\n",
      "0\n",
      "1\n",
      "3\n",
      "2\n",
      "1\n",
      "3\n",
      "1\n",
      "1\n",
      "3\n",
      "1\n",
      "1\n",
      "3\n",
      "3\n",
      "1\n",
      "1\n",
      "3\n",
      "1\n",
      "1\n",
      "1\n",
      "2\n",
      "1\n",
      "1\n",
      "1\n",
      "1\n",
      "3\n",
      "3\n",
      "3\n",
      "1\n",
      "3\n",
      "1\n",
      "1\n",
      "2\n",
      "1\n",
      "1\n",
      "2\n",
      "1\n",
      "2\n",
      "1\n",
      "1\n",
      "3\n",
      "1\n",
      "1\n",
      "1\n",
      "1\n",
      "0\n",
      "2\n",
      "1\n",
      "1\n",
      "1\n",
      "1\n",
      "1\n",
      "2\n",
      "1\n",
      "3\n",
      "2\n",
      "1\n",
      "3\n",
      "1\n",
      "1\n",
      "1\n",
      "1\n",
      "1\n",
      "2\n",
      "3\n",
      "1\n",
      "1\n",
      "1\n",
      "1\n",
      "1\n",
      "3\n",
      "1\n",
      "1\n",
      "2\n",
      "2\n",
      "1\n",
      "1\n",
      "2\n",
      "1\n",
      "1\n",
      "2\n",
      "1\n",
      "1\n"
     ]
    }
   ],
   "source": [
    "for i in resultKNN:\n",
    "    if(i != 4):\n",
    "        print(i)"
   ]
  },
  {
   "cell_type": "code",
   "execution_count": null,
   "id": "56303386",
   "metadata": {},
   "outputs": [],
   "source": []
  },
  {
   "cell_type": "code",
   "execution_count": 39,
   "id": "df958c1a",
   "metadata": {},
   "outputs": [],
   "source": [
    "df = pd.read_csv('BankChurners.csv', delimiter=\",\")"
   ]
  },
  {
   "cell_type": "code",
   "execution_count": 3,
   "id": "f411f658",
   "metadata": {},
   "outputs": [
    {
     "name": "stderr",
     "output_type": "stream",
     "text": [
      "/home/rafael/.local/lib/python3.8/site-packages/pandas/core/computation/expressions.py:68: FutureWarning: elementwise comparison failed; returning scalar instead, but in the future will perform elementwise comparison\n",
      "  return op(a, b)\n",
      "/home/rafael/.local/lib/python3.8/site-packages/pandas/core/computation/expressions.py:68: FutureWarning: elementwise comparison failed; returning scalar instead, but in the future will perform elementwise comparison\n",
      "  return op(a, b)\n",
      "/home/rafael/.local/lib/python3.8/site-packages/pandas/core/computation/expressions.py:68: FutureWarning: elementwise comparison failed; returning scalar instead, but in the future will perform elementwise comparison\n",
      "  return op(a, b)\n",
      "/home/rafael/.local/lib/python3.8/site-packages/pandas/core/computation/expressions.py:68: FutureWarning: elementwise comparison failed; returning scalar instead, but in the future will perform elementwise comparison\n",
      "  return op(a, b)\n",
      "/home/rafael/.local/lib/python3.8/site-packages/pandas/core/computation/expressions.py:68: FutureWarning: elementwise comparison failed; returning scalar instead, but in the future will perform elementwise comparison\n",
      "  return op(a, b)\n",
      "/home/rafael/.local/lib/python3.8/site-packages/pandas/core/computation/expressions.py:68: FutureWarning: elementwise comparison failed; returning scalar instead, but in the future will perform elementwise comparison\n",
      "  return op(a, b)\n",
      "/home/rafael/.local/lib/python3.8/site-packages/pandas/core/computation/expressions.py:68: FutureWarning: elementwise comparison failed; returning scalar instead, but in the future will perform elementwise comparison\n",
      "  return op(a, b)\n",
      "/home/rafael/.local/lib/python3.8/site-packages/pandas/core/computation/expressions.py:68: FutureWarning: elementwise comparison failed; returning scalar instead, but in the future will perform elementwise comparison\n",
      "  return op(a, b)\n",
      "/home/rafael/.local/lib/python3.8/site-packages/pandas/core/computation/expressions.py:68: FutureWarning: elementwise comparison failed; returning scalar instead, but in the future will perform elementwise comparison\n",
      "  return op(a, b)\n",
      "/home/rafael/.local/lib/python3.8/site-packages/pandas/core/computation/expressions.py:68: FutureWarning: elementwise comparison failed; returning scalar instead, but in the future will perform elementwise comparison\n",
      "  return op(a, b)\n",
      "/home/rafael/.local/lib/python3.8/site-packages/pandas/core/computation/expressions.py:68: FutureWarning: elementwise comparison failed; returning scalar instead, but in the future will perform elementwise comparison\n",
      "  return op(a, b)\n",
      "/home/rafael/.local/lib/python3.8/site-packages/pandas/core/computation/expressions.py:68: FutureWarning: elementwise comparison failed; returning scalar instead, but in the future will perform elementwise comparison\n",
      "  return op(a, b)\n",
      "/home/rafael/.local/lib/python3.8/site-packages/pandas/core/computation/expressions.py:68: FutureWarning: elementwise comparison failed; returning scalar instead, but in the future will perform elementwise comparison\n",
      "  return op(a, b)\n",
      "/home/rafael/.local/lib/python3.8/site-packages/pandas/core/computation/expressions.py:68: FutureWarning: elementwise comparison failed; returning scalar instead, but in the future will perform elementwise comparison\n",
      "  return op(a, b)\n",
      "/home/rafael/.local/lib/python3.8/site-packages/pandas/core/computation/expressions.py:68: FutureWarning: elementwise comparison failed; returning scalar instead, but in the future will perform elementwise comparison\n",
      "  return op(a, b)\n",
      "/home/rafael/.local/lib/python3.8/site-packages/pandas/core/computation/expressions.py:68: FutureWarning: elementwise comparison failed; returning scalar instead, but in the future will perform elementwise comparison\n",
      "  return op(a, b)\n",
      "/home/rafael/.local/lib/python3.8/site-packages/pandas/core/computation/expressions.py:68: FutureWarning: elementwise comparison failed; returning scalar instead, but in the future will perform elementwise comparison\n",
      "  return op(a, b)\n"
     ]
    }
   ],
   "source": [
    "for column in df.columns:\n",
    "    df = df[df[column] != \"Unknown\"]"
   ]
  },
  {
   "cell_type": "code",
   "execution_count": 41,
   "id": "feb3904b",
   "metadata": {},
   "outputs": [
    {
     "ename": "KeyError",
     "evalue": "\"['Naive_Bayes_Classifier_Attrition_Flag_Card_Category_Contacts_Count_12_mon_Dependent_count_Education_Level_Months_Inactive_12_mon_1'\\n 'Naive_Bayes_Classifier_Attrition_Flag_Card_Category_Contacts_Count_12_mon_Dependent_count_Education_Level_Months_Inactive_12_mon_2'] not found in axis\"",
     "output_type": "error",
     "traceback": [
      "\u001b[0;31m---------------------------------------------------------------------------\u001b[0m",
      "\u001b[0;31mKeyError\u001b[0m                                  Traceback (most recent call last)",
      "\u001b[0;32m/tmp/ipykernel_7264/3203738416.py\u001b[0m in \u001b[0;36m<module>\u001b[0;34m\u001b[0m\n\u001b[0;32m----> 1\u001b[0;31m \u001b[0mdf\u001b[0m \u001b[0;34m=\u001b[0m \u001b[0mdf\u001b[0m\u001b[0;34m.\u001b[0m\u001b[0mdrop\u001b[0m\u001b[0;34m(\u001b[0m\u001b[0mcolumns\u001b[0m\u001b[0;34m=\u001b[0m\u001b[0;34m[\u001b[0m\u001b[0;34m'Naive_Bayes_Classifier_Attrition_Flag_Card_Category_Contacts_Count_12_mon_Dependent_count_Education_Level_Months_Inactive_12_mon_1'\u001b[0m\u001b[0;34m,\u001b[0m\u001b[0;34m'Naive_Bayes_Classifier_Attrition_Flag_Card_Category_Contacts_Count_12_mon_Dependent_count_Education_Level_Months_Inactive_12_mon_2'\u001b[0m\u001b[0;34m]\u001b[0m\u001b[0;34m)\u001b[0m\u001b[0;34m\u001b[0m\u001b[0;34m\u001b[0m\u001b[0m\n\u001b[0m",
      "\u001b[0;32m~/.local/lib/python3.8/site-packages/pandas/core/frame.py\u001b[0m in \u001b[0;36mdrop\u001b[0;34m(self, labels, axis, index, columns, level, inplace, errors)\u001b[0m\n\u001b[1;32m   4160\u001b[0m                 \u001b[0mweight\u001b[0m  \u001b[0;36m1.0\u001b[0m     \u001b[0;36m0.8\u001b[0m\u001b[0;34m\u001b[0m\u001b[0;34m\u001b[0m\u001b[0m\n\u001b[1;32m   4161\u001b[0m         \"\"\"\n\u001b[0;32m-> 4162\u001b[0;31m         return super().drop(\n\u001b[0m\u001b[1;32m   4163\u001b[0m             \u001b[0mlabels\u001b[0m\u001b[0;34m=\u001b[0m\u001b[0mlabels\u001b[0m\u001b[0;34m,\u001b[0m\u001b[0;34m\u001b[0m\u001b[0;34m\u001b[0m\u001b[0m\n\u001b[1;32m   4164\u001b[0m             \u001b[0maxis\u001b[0m\u001b[0;34m=\u001b[0m\u001b[0maxis\u001b[0m\u001b[0;34m,\u001b[0m\u001b[0;34m\u001b[0m\u001b[0;34m\u001b[0m\u001b[0m\n",
      "\u001b[0;32m~/.local/lib/python3.8/site-packages/pandas/core/generic.py\u001b[0m in \u001b[0;36mdrop\u001b[0;34m(self, labels, axis, index, columns, level, inplace, errors)\u001b[0m\n\u001b[1;32m   3882\u001b[0m         \u001b[0;32mfor\u001b[0m \u001b[0maxis\u001b[0m\u001b[0;34m,\u001b[0m \u001b[0mlabels\u001b[0m \u001b[0;32min\u001b[0m \u001b[0maxes\u001b[0m\u001b[0;34m.\u001b[0m\u001b[0mitems\u001b[0m\u001b[0;34m(\u001b[0m\u001b[0;34m)\u001b[0m\u001b[0;34m:\u001b[0m\u001b[0;34m\u001b[0m\u001b[0;34m\u001b[0m\u001b[0m\n\u001b[1;32m   3883\u001b[0m             \u001b[0;32mif\u001b[0m \u001b[0mlabels\u001b[0m \u001b[0;32mis\u001b[0m \u001b[0;32mnot\u001b[0m \u001b[0;32mNone\u001b[0m\u001b[0;34m:\u001b[0m\u001b[0;34m\u001b[0m\u001b[0;34m\u001b[0m\u001b[0m\n\u001b[0;32m-> 3884\u001b[0;31m                 \u001b[0mobj\u001b[0m \u001b[0;34m=\u001b[0m \u001b[0mobj\u001b[0m\u001b[0;34m.\u001b[0m\u001b[0m_drop_axis\u001b[0m\u001b[0;34m(\u001b[0m\u001b[0mlabels\u001b[0m\u001b[0;34m,\u001b[0m \u001b[0maxis\u001b[0m\u001b[0;34m,\u001b[0m \u001b[0mlevel\u001b[0m\u001b[0;34m=\u001b[0m\u001b[0mlevel\u001b[0m\u001b[0;34m,\u001b[0m \u001b[0merrors\u001b[0m\u001b[0;34m=\u001b[0m\u001b[0merrors\u001b[0m\u001b[0;34m)\u001b[0m\u001b[0;34m\u001b[0m\u001b[0;34m\u001b[0m\u001b[0m\n\u001b[0m\u001b[1;32m   3885\u001b[0m \u001b[0;34m\u001b[0m\u001b[0m\n\u001b[1;32m   3886\u001b[0m         \u001b[0;32mif\u001b[0m \u001b[0minplace\u001b[0m\u001b[0;34m:\u001b[0m\u001b[0;34m\u001b[0m\u001b[0;34m\u001b[0m\u001b[0m\n",
      "\u001b[0;32m~/.local/lib/python3.8/site-packages/pandas/core/generic.py\u001b[0m in \u001b[0;36m_drop_axis\u001b[0;34m(self, labels, axis, level, errors)\u001b[0m\n\u001b[1;32m   3916\u001b[0m                 \u001b[0mnew_axis\u001b[0m \u001b[0;34m=\u001b[0m \u001b[0maxis\u001b[0m\u001b[0;34m.\u001b[0m\u001b[0mdrop\u001b[0m\u001b[0;34m(\u001b[0m\u001b[0mlabels\u001b[0m\u001b[0;34m,\u001b[0m \u001b[0mlevel\u001b[0m\u001b[0;34m=\u001b[0m\u001b[0mlevel\u001b[0m\u001b[0;34m,\u001b[0m \u001b[0merrors\u001b[0m\u001b[0;34m=\u001b[0m\u001b[0merrors\u001b[0m\u001b[0;34m)\u001b[0m\u001b[0;34m\u001b[0m\u001b[0;34m\u001b[0m\u001b[0m\n\u001b[1;32m   3917\u001b[0m             \u001b[0;32melse\u001b[0m\u001b[0;34m:\u001b[0m\u001b[0;34m\u001b[0m\u001b[0;34m\u001b[0m\u001b[0m\n\u001b[0;32m-> 3918\u001b[0;31m                 \u001b[0mnew_axis\u001b[0m \u001b[0;34m=\u001b[0m \u001b[0maxis\u001b[0m\u001b[0;34m.\u001b[0m\u001b[0mdrop\u001b[0m\u001b[0;34m(\u001b[0m\u001b[0mlabels\u001b[0m\u001b[0;34m,\u001b[0m \u001b[0merrors\u001b[0m\u001b[0;34m=\u001b[0m\u001b[0merrors\u001b[0m\u001b[0;34m)\u001b[0m\u001b[0;34m\u001b[0m\u001b[0;34m\u001b[0m\u001b[0m\n\u001b[0m\u001b[1;32m   3919\u001b[0m             \u001b[0mresult\u001b[0m \u001b[0;34m=\u001b[0m \u001b[0mself\u001b[0m\u001b[0;34m.\u001b[0m\u001b[0mreindex\u001b[0m\u001b[0;34m(\u001b[0m\u001b[0;34m**\u001b[0m\u001b[0;34m{\u001b[0m\u001b[0maxis_name\u001b[0m\u001b[0;34m:\u001b[0m \u001b[0mnew_axis\u001b[0m\u001b[0;34m}\u001b[0m\u001b[0;34m)\u001b[0m\u001b[0;34m\u001b[0m\u001b[0;34m\u001b[0m\u001b[0m\n\u001b[1;32m   3920\u001b[0m \u001b[0;34m\u001b[0m\u001b[0m\n",
      "\u001b[0;32m~/.local/lib/python3.8/site-packages/pandas/core/indexes/base.py\u001b[0m in \u001b[0;36mdrop\u001b[0;34m(self, labels, errors)\u001b[0m\n\u001b[1;32m   5276\u001b[0m         \u001b[0;32mif\u001b[0m \u001b[0mmask\u001b[0m\u001b[0;34m.\u001b[0m\u001b[0many\u001b[0m\u001b[0;34m(\u001b[0m\u001b[0;34m)\u001b[0m\u001b[0;34m:\u001b[0m\u001b[0;34m\u001b[0m\u001b[0;34m\u001b[0m\u001b[0m\n\u001b[1;32m   5277\u001b[0m             \u001b[0;32mif\u001b[0m \u001b[0merrors\u001b[0m \u001b[0;34m!=\u001b[0m \u001b[0;34m\"ignore\"\u001b[0m\u001b[0;34m:\u001b[0m\u001b[0;34m\u001b[0m\u001b[0;34m\u001b[0m\u001b[0m\n\u001b[0;32m-> 5278\u001b[0;31m                 \u001b[0;32mraise\u001b[0m \u001b[0mKeyError\u001b[0m\u001b[0;34m(\u001b[0m\u001b[0;34mf\"{labels[mask]} not found in axis\"\u001b[0m\u001b[0;34m)\u001b[0m\u001b[0;34m\u001b[0m\u001b[0;34m\u001b[0m\u001b[0m\n\u001b[0m\u001b[1;32m   5279\u001b[0m             \u001b[0mindexer\u001b[0m \u001b[0;34m=\u001b[0m \u001b[0mindexer\u001b[0m\u001b[0;34m[\u001b[0m\u001b[0;34m~\u001b[0m\u001b[0mmask\u001b[0m\u001b[0;34m]\u001b[0m\u001b[0;34m\u001b[0m\u001b[0;34m\u001b[0m\u001b[0m\n\u001b[1;32m   5280\u001b[0m         \u001b[0;32mreturn\u001b[0m \u001b[0mself\u001b[0m\u001b[0;34m.\u001b[0m\u001b[0mdelete\u001b[0m\u001b[0;34m(\u001b[0m\u001b[0mindexer\u001b[0m\u001b[0;34m)\u001b[0m\u001b[0;34m\u001b[0m\u001b[0;34m\u001b[0m\u001b[0m\n",
      "\u001b[0;31mKeyError\u001b[0m: \"['Naive_Bayes_Classifier_Attrition_Flag_Card_Category_Contacts_Count_12_mon_Dependent_count_Education_Level_Months_Inactive_12_mon_1'\\n 'Naive_Bayes_Classifier_Attrition_Flag_Card_Category_Contacts_Count_12_mon_Dependent_count_Education_Level_Months_Inactive_12_mon_2'] not found in axis\""
     ]
    }
   ],
   "source": [
    "df = df.drop(columns=['Naive_Bayes_Classifier_Attrition_Flag_Card_Category_Contacts_Count_12_mon_Dependent_count_Education_Level_Months_Inactive_12_mon_1','Naive_Bayes_Classifier_Attrition_Flag_Card_Category_Contacts_Count_12_mon_Dependent_count_Education_Level_Months_Inactive_12_mon_2'])"
   ]
  },
  {
   "cell_type": "code",
   "execution_count": 42,
   "id": "246aafd5",
   "metadata": {},
   "outputs": [],
   "source": [
    "trainSample = df.sample(frac=0.8, random_state = 1) #seleção de 80% da base para treinamento\n",
    "testSample = pd.concat([df, trainSample]).drop_duplicates(keep=False) #concatena a base original com a base de treinamento e exclui os duplicados, sobrando a amostra de teste\n",
    "\n",
    "trainTarget = trainSample[\"Income_Category\"] #define o atributo alvo da base para o treinamento\n",
    "testTarget = testSample[\"Income_Category\"] #define o atributo alvo da base para o teste\n",
    "\n",
    "\n",
    "del testSample[\"Income_Category\"]\n",
    "del trainSample[\"Income_Category\"]"
   ]
  },
  {
   "cell_type": "code",
   "execution_count": null,
   "id": "7b307764",
   "metadata": {},
   "outputs": [],
   "source": []
  }
 ],
 "metadata": {
  "kernelspec": {
   "display_name": "Python 3 (ipykernel)",
   "language": "python",
   "name": "python3"
  },
  "language_info": {
   "codemirror_mode": {
    "name": "ipython",
    "version": 3
   },
   "file_extension": ".py",
   "mimetype": "text/x-python",
   "name": "python",
   "nbconvert_exporter": "python",
   "pygments_lexer": "ipython3",
   "version": "3.8.10"
  }
 },
 "nbformat": 4,
 "nbformat_minor": 5
}
