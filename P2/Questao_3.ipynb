{
 "cells": [
  {
   "cell_type": "code",
   "execution_count": 1,
   "metadata": {},
   "outputs": [],
   "source": [
    "import pandas as pd\n",
    "import numpy as np\n",
    "import statistics as st\n",
    "import matplotlib.pyplot as plt\n",
    "import plotly.express as px\n",
    "from sklearn import cluster, neighbors, svm, metrics, preprocessing\n",
    "from sklearn.preprocessing import RobustScaler"
   ]
  },
  {
   "cell_type": "markdown",
   "metadata": {},
   "source": [
    "<h1> Questão 3"
   ]
  },
  {
   "cell_type": "code",
   "execution_count": 2,
   "metadata": {},
   "outputs": [
    {
     "data": {
      "text/html": [
       "<div>\n",
       "<style scoped>\n",
       "    .dataframe tbody tr th:only-of-type {\n",
       "        vertical-align: middle;\n",
       "    }\n",
       "\n",
       "    .dataframe tbody tr th {\n",
       "        vertical-align: top;\n",
       "    }\n",
       "\n",
       "    .dataframe thead th {\n",
       "        text-align: right;\n",
       "    }\n",
       "</style>\n",
       "<table border=\"1\" class=\"dataframe\">\n",
       "  <thead>\n",
       "    <tr style=\"text-align: right;\">\n",
       "      <th></th>\n",
       "      <th>CustomerID</th>\n",
       "      <th>Genre</th>\n",
       "      <th>Age</th>\n",
       "      <th>Annual Income (k$)</th>\n",
       "      <th>Spending Score (1-100)</th>\n",
       "    </tr>\n",
       "  </thead>\n",
       "  <tbody>\n",
       "    <tr>\n",
       "      <th>0</th>\n",
       "      <td>1</td>\n",
       "      <td>Male</td>\n",
       "      <td>19</td>\n",
       "      <td>15</td>\n",
       "      <td>39</td>\n",
       "    </tr>\n",
       "    <tr>\n",
       "      <th>1</th>\n",
       "      <td>2</td>\n",
       "      <td>Male</td>\n",
       "      <td>21</td>\n",
       "      <td>15</td>\n",
       "      <td>81</td>\n",
       "    </tr>\n",
       "    <tr>\n",
       "      <th>2</th>\n",
       "      <td>3</td>\n",
       "      <td>Female</td>\n",
       "      <td>20</td>\n",
       "      <td>16</td>\n",
       "      <td>6</td>\n",
       "    </tr>\n",
       "    <tr>\n",
       "      <th>3</th>\n",
       "      <td>4</td>\n",
       "      <td>Female</td>\n",
       "      <td>23</td>\n",
       "      <td>16</td>\n",
       "      <td>77</td>\n",
       "    </tr>\n",
       "    <tr>\n",
       "      <th>4</th>\n",
       "      <td>5</td>\n",
       "      <td>Female</td>\n",
       "      <td>31</td>\n",
       "      <td>17</td>\n",
       "      <td>40</td>\n",
       "    </tr>\n",
       "    <tr>\n",
       "      <th>...</th>\n",
       "      <td>...</td>\n",
       "      <td>...</td>\n",
       "      <td>...</td>\n",
       "      <td>...</td>\n",
       "      <td>...</td>\n",
       "    </tr>\n",
       "    <tr>\n",
       "      <th>195</th>\n",
       "      <td>196</td>\n",
       "      <td>Female</td>\n",
       "      <td>35</td>\n",
       "      <td>120</td>\n",
       "      <td>79</td>\n",
       "    </tr>\n",
       "    <tr>\n",
       "      <th>196</th>\n",
       "      <td>197</td>\n",
       "      <td>Female</td>\n",
       "      <td>45</td>\n",
       "      <td>126</td>\n",
       "      <td>28</td>\n",
       "    </tr>\n",
       "    <tr>\n",
       "      <th>197</th>\n",
       "      <td>198</td>\n",
       "      <td>Male</td>\n",
       "      <td>32</td>\n",
       "      <td>126</td>\n",
       "      <td>74</td>\n",
       "    </tr>\n",
       "    <tr>\n",
       "      <th>198</th>\n",
       "      <td>199</td>\n",
       "      <td>Male</td>\n",
       "      <td>32</td>\n",
       "      <td>137</td>\n",
       "      <td>18</td>\n",
       "    </tr>\n",
       "    <tr>\n",
       "      <th>199</th>\n",
       "      <td>200</td>\n",
       "      <td>Male</td>\n",
       "      <td>30</td>\n",
       "      <td>137</td>\n",
       "      <td>83</td>\n",
       "    </tr>\n",
       "  </tbody>\n",
       "</table>\n",
       "<p>200 rows × 5 columns</p>\n",
       "</div>"
      ],
      "text/plain": [
       "     CustomerID   Genre  Age  Annual Income (k$)  Spending Score (1-100)\n",
       "0             1    Male   19                  15                      39\n",
       "1             2    Male   21                  15                      81\n",
       "2             3  Female   20                  16                       6\n",
       "3             4  Female   23                  16                      77\n",
       "4             5  Female   31                  17                      40\n",
       "..          ...     ...  ...                 ...                     ...\n",
       "195         196  Female   35                 120                      79\n",
       "196         197  Female   45                 126                      28\n",
       "197         198    Male   32                 126                      74\n",
       "198         199    Male   32                 137                      18\n",
       "199         200    Male   30                 137                      83\n",
       "\n",
       "[200 rows x 5 columns]"
      ]
     },
     "execution_count": 2,
     "metadata": {},
     "output_type": "execute_result"
    }
   ],
   "source": [
    "df = pd.read_csv('Mall_Customers.csv', delimiter=\",\")\n",
    "df"
   ]
  },
  {
   "cell_type": "code",
   "execution_count": 3,
   "metadata": {},
   "outputs": [],
   "source": [
    "df = df.drop(columns=['CustomerID']) # Remove Atributos irrelevantes"
   ]
  },
  {
   "cell_type": "code",
   "execution_count": 4,
   "metadata": {},
   "outputs": [],
   "source": [
    "le = preprocessing.LabelEncoder() #transforma atributos qualitativos em quantitativos\n",
    "for column in df.columns:\n",
    "    if df[column].dtypes == 'object':\n",
    "        df[column] = le.fit_transform(df[column])\n",
    "\n",
    "\n",
    "scaler = preprocessing.MinMaxScaler()\n",
    "names = df.columns\n",
    "d = scaler.fit_transform(df)\n",
    "df = pd.DataFrame(d, columns=names) #df normalizado (todos os dados no intervalo [0,1])"
   ]
  },
  {
   "cell_type": "code",
   "execution_count": 5,
   "metadata": {},
   "outputs": [],
   "source": [
    "from sklearn.cluster import AgglomerativeClustering\n",
    "from sklearn.cluster import KMeans\n",
    "from sklearn.metrics import davies_bouldin_score"
   ]
  },
  {
   "cell_type": "markdown",
   "metadata": {},
   "source": [
    "<h2> K-Means"
   ]
  },
  {
   "cell_type": "code",
   "execution_count": 6,
   "metadata": {},
   "outputs": [
    {
     "data": {
      "text/plain": [
       "0.8172534497318453"
      ]
     },
     "execution_count": 6,
     "metadata": {},
     "output_type": "execute_result"
    }
   ],
   "source": [
    "kmeans = KMeans(n_clusters=2)\n",
    "kmeans_model = kmeans.fit(df)\n",
    "labels = kmeans_model.labels_\n",
    "metrics.davies_bouldin_score(df, labels)"
   ]
  },
  {
   "cell_type": "code",
   "execution_count": 7,
   "metadata": {},
   "outputs": [
    {
     "data": {
      "text/plain": [
       "0.8266049990730412"
      ]
     },
     "execution_count": 7,
     "metadata": {},
     "output_type": "execute_result"
    }
   ],
   "source": [
    "kmeans = KMeans(n_clusters=20)\n",
    "kmeans_model = kmeans.fit(df)\n",
    "labels = kmeans_model.labels_\n",
    "metrics.davies_bouldin_score(df, labels)"
   ]
  },
  {
   "cell_type": "code",
   "execution_count": 8,
   "metadata": {},
   "outputs": [
    {
     "data": {
      "text/plain": [
       "0.015234622075066928"
      ]
     },
     "execution_count": 8,
     "metadata": {},
     "output_type": "execute_result"
    }
   ],
   "source": [
    "kmeans = KMeans(n_clusters=199)\n",
    "kmeans_model = kmeans.fit(df)\n",
    "labels = kmeans_model.labels_\n",
    "metrics.davies_bouldin_score(df, labels)"
   ]
  },
  {
   "cell_type": "markdown",
   "metadata": {},
   "source": [
    "<h2> Hierárquico"
   ]
  },
  {
   "cell_type": "code",
   "execution_count": 9,
   "metadata": {},
   "outputs": [
    {
     "name": "stdout",
     "output_type": "stream",
     "text": [
      "Single:  0.8172534497318453\n",
      "Average:  0.8172534497318453\n"
     ]
    }
   ],
   "source": [
    "clustering = AgglomerativeClustering(n_clusters=2, linkage='single')\n",
    "hierarquico_model = clustering.fit(df)\n",
    "labels = hierarquico_model.labels_\n",
    "print('Single: ', metrics.davies_bouldin_score(df, labels))\n",
    "\n",
    "clustering = AgglomerativeClustering(n_clusters=2, linkage='average')\n",
    "hierarquico_model = clustering.fit(df)\n",
    "labels = hierarquico_model.labels_\n",
    "print('Average: ', metrics.davies_bouldin_score(df, labels))"
   ]
  },
  {
   "cell_type": "code",
   "execution_count": 10,
   "metadata": {},
   "outputs": [
    {
     "name": "stdout",
     "output_type": "stream",
     "text": [
      "Single:  0.7860409596930096\n",
      "Average:  0.7009949127420498\n"
     ]
    }
   ],
   "source": [
    "clustering = AgglomerativeClustering(n_clusters=20, linkage='single')\n",
    "hierarquico_model = clustering.fit(df)\n",
    "labels = hierarquico_model.labels_\n",
    "print('Single: ', metrics.davies_bouldin_score(df, labels))\n",
    "\n",
    "clustering = AgglomerativeClustering(n_clusters=20, linkage='average')\n",
    "hierarquico_model = clustering.fit(df)\n",
    "labels = hierarquico_model.labels_\n",
    "print('Average: ', metrics.davies_bouldin_score(df, labels))"
   ]
  },
  {
   "cell_type": "code",
   "execution_count": 11,
   "metadata": {},
   "outputs": [
    {
     "name": "stdout",
     "output_type": "stream",
     "text": [
      "Single:  0.01523462207506693\n",
      "Average:  0.015234622075066928\n"
     ]
    }
   ],
   "source": [
    "clustering = AgglomerativeClustering(n_clusters=199, linkage='single')\n",
    "hierarquico_model = clustering.fit(df)\n",
    "labels = hierarquico_model.labels_\n",
    "print('Single: ', metrics.davies_bouldin_score(df, labels))\n",
    "\n",
    "clustering = AgglomerativeClustering(n_clusters=199, linkage='average')\n",
    "hierarquico_model = clustering.fit(df)\n",
    "labels = hierarquico_model.labels_\n",
    "print('Average: ', metrics.davies_bouldin_score(df, labels))"
   ]
  },
  {
   "cell_type": "markdown",
   "metadata": {},
   "source": [
    "\n",
    "A métrica de avaliação escolhida foi o Indice de Davies-Boudin, que indica a similiaridade média entre os clusters, considerando as distâncias euclidianas entre os clusters e os tamanhos. Valores próximos de zero indicam melhor particionamento.\n",
    "\n",
    "Quando o número de clusters é próximo do número de instâncias, a similaridade entre clusters diminui, o que resulta num índice mais próximo de zero.\n",
    "\n",
    "Na comparação do hierárquico foram usados dois diferentes métodos de linkage: O \"single\", que usa a menor distância entre dois conjuntos de observação, e o \"average\", que usa a distância média. \n",
    "\n",
    "Quando o número de clusters é muito baixo (2) a tendência é que sejam formados dois clusters parecidos, dessa forma os resultados não mudam ao alterar o método de linkage, e também não há diferença para o k-means. Da mesma forma, quando o número de clusters é máximo cada cluster contém uma única instância, o que gera resultados iguais independente dos métodos utilizados. \n",
    "\n",
    "A comparação entre métodos é mais adequada no caso intermediário, com 20 clusters. Nesse caso pode-se observar a diferença nos resultados. Comparando os métodos de linkage, o uso da distância média para fazer merge entre clusters apresentou um melhor score de Davies-Bouldin em relação ao uso da menor distância, que tende a formar grupos alongados com objetos extremos muito diferentes, o que pode levar a uma menor distância entre clusters no cálculo do índice de Davies-Bouldin."
   ]
  }
 ],
 "metadata": {
  "interpreter": {
   "hash": "916dbcbb3f70747c44a77c7bcd40155683ae19c65e1c03b4aa3499c5328201f1"
  },
  "kernelspec": {
   "display_name": "Python 3.8.10 64-bit",
   "language": "python",
   "name": "python3"
  },
  "language_info": {
   "codemirror_mode": {
    "name": "ipython",
    "version": 3
   },
   "file_extension": ".py",
   "mimetype": "text/x-python",
   "name": "python",
   "nbconvert_exporter": "python",
   "pygments_lexer": "ipython3",
   "version": "3.8.10"
  },
  "orig_nbformat": 4
 },
 "nbformat": 4,
 "nbformat_minor": 2
}
